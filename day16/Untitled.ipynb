{
 "cells": [
  {
   "cell_type": "code",
   "execution_count": 1,
   "id": "bc28b8ab-22ad-47d1-858d-d13c4f0ea202",
   "metadata": {},
   "outputs": [],
   "source": [
    "import numpy as np"
   ]
  },
  {
   "cell_type": "code",
   "execution_count": 2,
   "id": "e0478228-caf1-4884-8d1f-2e054a0a2e74",
   "metadata": {},
   "outputs": [],
   "source": [
    "grid = np.array([['a', 'b'], ['c', 'd']])"
   ]
  },
  {
   "cell_type": "code",
   "execution_count": 3,
   "id": "63c82ff2-d198-4e0e-8e82-522749dba92b",
   "metadata": {},
   "outputs": [],
   "source": [
    "index = np.array([[0, 0], [1, 1]])"
   ]
  },
  {
   "cell_type": "code",
   "execution_count": 8,
   "id": "fb3b6fe3-f264-4ba0-89ba-99f9329c4b13",
   "metadata": {},
   "outputs": [
    {
     "data": {
      "text/plain": [
       "array(['a', 'd'], dtype='<U1')"
      ]
     },
     "execution_count": 8,
     "metadata": {},
     "output_type": "execute_result"
    }
   ],
   "source": [
    "grid[*index.transpose()]"
   ]
  }
 ],
 "metadata": {
  "kernelspec": {
   "display_name": "Python 3 (ipykernel)",
   "language": "python",
   "name": "python3"
  },
  "language_info": {
   "codemirror_mode": {
    "name": "ipython",
    "version": 3
   },
   "file_extension": ".py",
   "mimetype": "text/x-python",
   "name": "python",
   "nbconvert_exporter": "python",
   "pygments_lexer": "ipython3",
   "version": "3.13.0"
  }
 },
 "nbformat": 4,
 "nbformat_minor": 5
}
